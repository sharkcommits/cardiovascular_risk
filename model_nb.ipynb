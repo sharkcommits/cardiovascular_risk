{
 "cells": [
  {
   "cell_type": "markdown",
   "id": "512673fd",
   "metadata": {},
   "source": [
    "### Importing the necessary libraries."
   ]
  },
  {
   "cell_type": "code",
   "execution_count": 27,
   "id": "4af07814",
   "metadata": {},
   "outputs": [],
   "source": [
    "import pandas as pd\n",
    "import numpy as np\n",
    "from sklearn.preprocessing import LabelEncoder, OneHotEncoder\n",
    "from sklearn.model_selection import train_test_split, GridSearchCV, KFold, cross_val_score, StratifiedKFold\n",
    "from sklearn.metrics import confusion_matrix, classification_report\n",
    "from imblearn.over_sampling import SMOTE\n",
    "from xgboost import XGBClassifier"
   ]
  },
  {
   "cell_type": "markdown",
   "id": "b62f276e",
   "metadata": {},
   "source": [
    "### Reading the data and checking out."
   ]
  },
  {
   "cell_type": "code",
   "execution_count": 4,
   "id": "423c37d7",
   "metadata": {},
   "outputs": [],
   "source": [
    "data = pd.read_csv('CVD_cleaned.csv')"
   ]
  },
  {
   "cell_type": "code",
   "execution_count": 5,
   "id": "0dbf72f7",
   "metadata": {},
   "outputs": [
    {
     "data": {
      "text/html": [
       "<div>\n",
       "<style scoped>\n",
       "    .dataframe tbody tr th:only-of-type {\n",
       "        vertical-align: middle;\n",
       "    }\n",
       "\n",
       "    .dataframe tbody tr th {\n",
       "        vertical-align: top;\n",
       "    }\n",
       "\n",
       "    .dataframe thead th {\n",
       "        text-align: right;\n",
       "    }\n",
       "</style>\n",
       "<table border=\"1\" class=\"dataframe\">\n",
       "  <thead>\n",
       "    <tr style=\"text-align: right;\">\n",
       "      <th></th>\n",
       "      <th>Height_(cm)</th>\n",
       "      <th>Weight_(kg)</th>\n",
       "      <th>BMI</th>\n",
       "      <th>Alcohol_Consumption</th>\n",
       "      <th>Fruit_Consumption</th>\n",
       "      <th>Green_Vegetables_Consumption</th>\n",
       "      <th>FriedPotato_Consumption</th>\n",
       "    </tr>\n",
       "  </thead>\n",
       "  <tbody>\n",
       "    <tr>\n",
       "      <th>count</th>\n",
       "      <td>308854.000000</td>\n",
       "      <td>308854.000000</td>\n",
       "      <td>308854.000000</td>\n",
       "      <td>308854.000000</td>\n",
       "      <td>308854.000000</td>\n",
       "      <td>308854.000000</td>\n",
       "      <td>308854.000000</td>\n",
       "    </tr>\n",
       "    <tr>\n",
       "      <th>mean</th>\n",
       "      <td>170.615249</td>\n",
       "      <td>83.588655</td>\n",
       "      <td>28.626211</td>\n",
       "      <td>5.096366</td>\n",
       "      <td>29.835200</td>\n",
       "      <td>15.110441</td>\n",
       "      <td>6.296616</td>\n",
       "    </tr>\n",
       "    <tr>\n",
       "      <th>std</th>\n",
       "      <td>10.658026</td>\n",
       "      <td>21.343210</td>\n",
       "      <td>6.522323</td>\n",
       "      <td>8.199763</td>\n",
       "      <td>24.875735</td>\n",
       "      <td>14.926238</td>\n",
       "      <td>8.582954</td>\n",
       "    </tr>\n",
       "    <tr>\n",
       "      <th>min</th>\n",
       "      <td>91.000000</td>\n",
       "      <td>24.950000</td>\n",
       "      <td>12.020000</td>\n",
       "      <td>0.000000</td>\n",
       "      <td>0.000000</td>\n",
       "      <td>0.000000</td>\n",
       "      <td>0.000000</td>\n",
       "    </tr>\n",
       "    <tr>\n",
       "      <th>25%</th>\n",
       "      <td>163.000000</td>\n",
       "      <td>68.040000</td>\n",
       "      <td>24.210000</td>\n",
       "      <td>0.000000</td>\n",
       "      <td>12.000000</td>\n",
       "      <td>4.000000</td>\n",
       "      <td>2.000000</td>\n",
       "    </tr>\n",
       "    <tr>\n",
       "      <th>50%</th>\n",
       "      <td>170.000000</td>\n",
       "      <td>81.650000</td>\n",
       "      <td>27.440000</td>\n",
       "      <td>1.000000</td>\n",
       "      <td>30.000000</td>\n",
       "      <td>12.000000</td>\n",
       "      <td>4.000000</td>\n",
       "    </tr>\n",
       "    <tr>\n",
       "      <th>75%</th>\n",
       "      <td>178.000000</td>\n",
       "      <td>95.250000</td>\n",
       "      <td>31.850000</td>\n",
       "      <td>6.000000</td>\n",
       "      <td>30.000000</td>\n",
       "      <td>20.000000</td>\n",
       "      <td>8.000000</td>\n",
       "    </tr>\n",
       "    <tr>\n",
       "      <th>max</th>\n",
       "      <td>241.000000</td>\n",
       "      <td>293.020000</td>\n",
       "      <td>99.330000</td>\n",
       "      <td>30.000000</td>\n",
       "      <td>120.000000</td>\n",
       "      <td>128.000000</td>\n",
       "      <td>128.000000</td>\n",
       "    </tr>\n",
       "  </tbody>\n",
       "</table>\n",
       "</div>"
      ],
      "text/plain": [
       "         Height_(cm)    Weight_(kg)            BMI  Alcohol_Consumption  \\\n",
       "count  308854.000000  308854.000000  308854.000000        308854.000000   \n",
       "mean      170.615249      83.588655      28.626211             5.096366   \n",
       "std        10.658026      21.343210       6.522323             8.199763   \n",
       "min        91.000000      24.950000      12.020000             0.000000   \n",
       "25%       163.000000      68.040000      24.210000             0.000000   \n",
       "50%       170.000000      81.650000      27.440000             1.000000   \n",
       "75%       178.000000      95.250000      31.850000             6.000000   \n",
       "max       241.000000     293.020000      99.330000            30.000000   \n",
       "\n",
       "       Fruit_Consumption  Green_Vegetables_Consumption  \\\n",
       "count      308854.000000                 308854.000000   \n",
       "mean           29.835200                     15.110441   \n",
       "std            24.875735                     14.926238   \n",
       "min             0.000000                      0.000000   \n",
       "25%            12.000000                      4.000000   \n",
       "50%            30.000000                     12.000000   \n",
       "75%            30.000000                     20.000000   \n",
       "max           120.000000                    128.000000   \n",
       "\n",
       "       FriedPotato_Consumption  \n",
       "count            308854.000000  \n",
       "mean                  6.296616  \n",
       "std                   8.582954  \n",
       "min                   0.000000  \n",
       "25%                   2.000000  \n",
       "50%                   4.000000  \n",
       "75%                   8.000000  \n",
       "max                 128.000000  "
      ]
     },
     "execution_count": 5,
     "metadata": {},
     "output_type": "execute_result"
    }
   ],
   "source": [
    "data.describe()"
   ]
  },
  {
   "cell_type": "code",
   "execution_count": 6,
   "id": "043df0ff",
   "metadata": {},
   "outputs": [
    {
     "data": {
      "text/html": [
       "<div>\n",
       "<style scoped>\n",
       "    .dataframe tbody tr th:only-of-type {\n",
       "        vertical-align: middle;\n",
       "    }\n",
       "\n",
       "    .dataframe tbody tr th {\n",
       "        vertical-align: top;\n",
       "    }\n",
       "\n",
       "    .dataframe thead th {\n",
       "        text-align: right;\n",
       "    }\n",
       "</style>\n",
       "<table border=\"1\" class=\"dataframe\">\n",
       "  <thead>\n",
       "    <tr style=\"text-align: right;\">\n",
       "      <th></th>\n",
       "      <th>General_Health</th>\n",
       "      <th>Checkup</th>\n",
       "      <th>Exercise</th>\n",
       "      <th>Heart_Disease</th>\n",
       "      <th>Skin_Cancer</th>\n",
       "      <th>Other_Cancer</th>\n",
       "      <th>Depression</th>\n",
       "      <th>Diabetes</th>\n",
       "      <th>Arthritis</th>\n",
       "      <th>Sex</th>\n",
       "      <th>Age_Category</th>\n",
       "      <th>Height_(cm)</th>\n",
       "      <th>Weight_(kg)</th>\n",
       "      <th>BMI</th>\n",
       "      <th>Smoking_History</th>\n",
       "      <th>Alcohol_Consumption</th>\n",
       "      <th>Fruit_Consumption</th>\n",
       "      <th>Green_Vegetables_Consumption</th>\n",
       "      <th>FriedPotato_Consumption</th>\n",
       "    </tr>\n",
       "  </thead>\n",
       "  <tbody>\n",
       "    <tr>\n",
       "      <th>0</th>\n",
       "      <td>Poor</td>\n",
       "      <td>Within the past 2 years</td>\n",
       "      <td>No</td>\n",
       "      <td>No</td>\n",
       "      <td>No</td>\n",
       "      <td>No</td>\n",
       "      <td>No</td>\n",
       "      <td>No</td>\n",
       "      <td>Yes</td>\n",
       "      <td>Female</td>\n",
       "      <td>70-74</td>\n",
       "      <td>150.0</td>\n",
       "      <td>32.66</td>\n",
       "      <td>14.54</td>\n",
       "      <td>Yes</td>\n",
       "      <td>0.0</td>\n",
       "      <td>30.0</td>\n",
       "      <td>16.0</td>\n",
       "      <td>12.0</td>\n",
       "    </tr>\n",
       "    <tr>\n",
       "      <th>1</th>\n",
       "      <td>Very Good</td>\n",
       "      <td>Within the past year</td>\n",
       "      <td>No</td>\n",
       "      <td>Yes</td>\n",
       "      <td>No</td>\n",
       "      <td>No</td>\n",
       "      <td>No</td>\n",
       "      <td>Yes</td>\n",
       "      <td>No</td>\n",
       "      <td>Female</td>\n",
       "      <td>70-74</td>\n",
       "      <td>165.0</td>\n",
       "      <td>77.11</td>\n",
       "      <td>28.29</td>\n",
       "      <td>No</td>\n",
       "      <td>0.0</td>\n",
       "      <td>30.0</td>\n",
       "      <td>0.0</td>\n",
       "      <td>4.0</td>\n",
       "    </tr>\n",
       "    <tr>\n",
       "      <th>2</th>\n",
       "      <td>Very Good</td>\n",
       "      <td>Within the past year</td>\n",
       "      <td>Yes</td>\n",
       "      <td>No</td>\n",
       "      <td>No</td>\n",
       "      <td>No</td>\n",
       "      <td>No</td>\n",
       "      <td>Yes</td>\n",
       "      <td>No</td>\n",
       "      <td>Female</td>\n",
       "      <td>60-64</td>\n",
       "      <td>163.0</td>\n",
       "      <td>88.45</td>\n",
       "      <td>33.47</td>\n",
       "      <td>No</td>\n",
       "      <td>4.0</td>\n",
       "      <td>12.0</td>\n",
       "      <td>3.0</td>\n",
       "      <td>16.0</td>\n",
       "    </tr>\n",
       "    <tr>\n",
       "      <th>3</th>\n",
       "      <td>Poor</td>\n",
       "      <td>Within the past year</td>\n",
       "      <td>Yes</td>\n",
       "      <td>Yes</td>\n",
       "      <td>No</td>\n",
       "      <td>No</td>\n",
       "      <td>No</td>\n",
       "      <td>Yes</td>\n",
       "      <td>No</td>\n",
       "      <td>Male</td>\n",
       "      <td>75-79</td>\n",
       "      <td>180.0</td>\n",
       "      <td>93.44</td>\n",
       "      <td>28.73</td>\n",
       "      <td>No</td>\n",
       "      <td>0.0</td>\n",
       "      <td>30.0</td>\n",
       "      <td>30.0</td>\n",
       "      <td>8.0</td>\n",
       "    </tr>\n",
       "    <tr>\n",
       "      <th>4</th>\n",
       "      <td>Good</td>\n",
       "      <td>Within the past year</td>\n",
       "      <td>No</td>\n",
       "      <td>No</td>\n",
       "      <td>No</td>\n",
       "      <td>No</td>\n",
       "      <td>No</td>\n",
       "      <td>No</td>\n",
       "      <td>No</td>\n",
       "      <td>Male</td>\n",
       "      <td>80+</td>\n",
       "      <td>191.0</td>\n",
       "      <td>88.45</td>\n",
       "      <td>24.37</td>\n",
       "      <td>Yes</td>\n",
       "      <td>0.0</td>\n",
       "      <td>8.0</td>\n",
       "      <td>4.0</td>\n",
       "      <td>0.0</td>\n",
       "    </tr>\n",
       "  </tbody>\n",
       "</table>\n",
       "</div>"
      ],
      "text/plain": [
       "  General_Health                  Checkup Exercise Heart_Disease Skin_Cancer  \\\n",
       "0           Poor  Within the past 2 years       No            No          No   \n",
       "1      Very Good     Within the past year       No           Yes          No   \n",
       "2      Very Good     Within the past year      Yes            No          No   \n",
       "3           Poor     Within the past year      Yes           Yes          No   \n",
       "4           Good     Within the past year       No            No          No   \n",
       "\n",
       "  Other_Cancer Depression Diabetes Arthritis     Sex Age_Category  \\\n",
       "0           No         No       No       Yes  Female        70-74   \n",
       "1           No         No      Yes        No  Female        70-74   \n",
       "2           No         No      Yes        No  Female        60-64   \n",
       "3           No         No      Yes        No    Male        75-79   \n",
       "4           No         No       No        No    Male          80+   \n",
       "\n",
       "   Height_(cm)  Weight_(kg)    BMI Smoking_History  Alcohol_Consumption  \\\n",
       "0        150.0        32.66  14.54             Yes                  0.0   \n",
       "1        165.0        77.11  28.29              No                  0.0   \n",
       "2        163.0        88.45  33.47              No                  4.0   \n",
       "3        180.0        93.44  28.73              No                  0.0   \n",
       "4        191.0        88.45  24.37             Yes                  0.0   \n",
       "\n",
       "   Fruit_Consumption  Green_Vegetables_Consumption  FriedPotato_Consumption  \n",
       "0               30.0                          16.0                     12.0  \n",
       "1               30.0                           0.0                      4.0  \n",
       "2               12.0                           3.0                     16.0  \n",
       "3               30.0                          30.0                      8.0  \n",
       "4                8.0                           4.0                      0.0  "
      ]
     },
     "execution_count": 6,
     "metadata": {},
     "output_type": "execute_result"
    }
   ],
   "source": [
    "data.head()"
   ]
  },
  {
   "cell_type": "markdown",
   "id": "e6d51d94",
   "metadata": {},
   "source": [
    "### Finding whether there are missing values or not. "
   ]
  },
  {
   "cell_type": "code",
   "execution_count": 7,
   "id": "848fe108",
   "metadata": {},
   "outputs": [
    {
     "data": {
      "text/html": [
       "<div>\n",
       "<style scoped>\n",
       "    .dataframe tbody tr th:only-of-type {\n",
       "        vertical-align: middle;\n",
       "    }\n",
       "\n",
       "    .dataframe tbody tr th {\n",
       "        vertical-align: top;\n",
       "    }\n",
       "\n",
       "    .dataframe thead th {\n",
       "        text-align: right;\n",
       "    }\n",
       "</style>\n",
       "<table border=\"1\" class=\"dataframe\">\n",
       "  <thead>\n",
       "    <tr style=\"text-align: right;\">\n",
       "      <th></th>\n",
       "      <th>General_Health</th>\n",
       "      <th>Checkup</th>\n",
       "      <th>Exercise</th>\n",
       "      <th>Heart_Disease</th>\n",
       "      <th>Skin_Cancer</th>\n",
       "      <th>Other_Cancer</th>\n",
       "      <th>Depression</th>\n",
       "      <th>Diabetes</th>\n",
       "      <th>Arthritis</th>\n",
       "      <th>Sex</th>\n",
       "      <th>Age_Category</th>\n",
       "      <th>Height_(cm)</th>\n",
       "      <th>Weight_(kg)</th>\n",
       "      <th>BMI</th>\n",
       "      <th>Smoking_History</th>\n",
       "      <th>Alcohol_Consumption</th>\n",
       "      <th>Fruit_Consumption</th>\n",
       "      <th>Green_Vegetables_Consumption</th>\n",
       "      <th>FriedPotato_Consumption</th>\n",
       "    </tr>\n",
       "  </thead>\n",
       "  <tbody>\n",
       "    <tr>\n",
       "      <th>count</th>\n",
       "      <td>308854</td>\n",
       "      <td>308854</td>\n",
       "      <td>308854</td>\n",
       "      <td>308854</td>\n",
       "      <td>308854</td>\n",
       "      <td>308854</td>\n",
       "      <td>308854</td>\n",
       "      <td>308854</td>\n",
       "      <td>308854</td>\n",
       "      <td>308854</td>\n",
       "      <td>308854</td>\n",
       "      <td>308854</td>\n",
       "      <td>308854</td>\n",
       "      <td>308854</td>\n",
       "      <td>308854</td>\n",
       "      <td>308854</td>\n",
       "      <td>308854</td>\n",
       "      <td>308854</td>\n",
       "      <td>308854</td>\n",
       "    </tr>\n",
       "    <tr>\n",
       "      <th>unique</th>\n",
       "      <td>1</td>\n",
       "      <td>1</td>\n",
       "      <td>1</td>\n",
       "      <td>1</td>\n",
       "      <td>1</td>\n",
       "      <td>1</td>\n",
       "      <td>1</td>\n",
       "      <td>1</td>\n",
       "      <td>1</td>\n",
       "      <td>1</td>\n",
       "      <td>1</td>\n",
       "      <td>1</td>\n",
       "      <td>1</td>\n",
       "      <td>1</td>\n",
       "      <td>1</td>\n",
       "      <td>1</td>\n",
       "      <td>1</td>\n",
       "      <td>1</td>\n",
       "      <td>1</td>\n",
       "    </tr>\n",
       "    <tr>\n",
       "      <th>top</th>\n",
       "      <td>False</td>\n",
       "      <td>False</td>\n",
       "      <td>False</td>\n",
       "      <td>False</td>\n",
       "      <td>False</td>\n",
       "      <td>False</td>\n",
       "      <td>False</td>\n",
       "      <td>False</td>\n",
       "      <td>False</td>\n",
       "      <td>False</td>\n",
       "      <td>False</td>\n",
       "      <td>False</td>\n",
       "      <td>False</td>\n",
       "      <td>False</td>\n",
       "      <td>False</td>\n",
       "      <td>False</td>\n",
       "      <td>False</td>\n",
       "      <td>False</td>\n",
       "      <td>False</td>\n",
       "    </tr>\n",
       "    <tr>\n",
       "      <th>freq</th>\n",
       "      <td>308854</td>\n",
       "      <td>308854</td>\n",
       "      <td>308854</td>\n",
       "      <td>308854</td>\n",
       "      <td>308854</td>\n",
       "      <td>308854</td>\n",
       "      <td>308854</td>\n",
       "      <td>308854</td>\n",
       "      <td>308854</td>\n",
       "      <td>308854</td>\n",
       "      <td>308854</td>\n",
       "      <td>308854</td>\n",
       "      <td>308854</td>\n",
       "      <td>308854</td>\n",
       "      <td>308854</td>\n",
       "      <td>308854</td>\n",
       "      <td>308854</td>\n",
       "      <td>308854</td>\n",
       "      <td>308854</td>\n",
       "    </tr>\n",
       "  </tbody>\n",
       "</table>\n",
       "</div>"
      ],
      "text/plain": [
       "       General_Health Checkup Exercise Heart_Disease Skin_Cancer Other_Cancer  \\\n",
       "count          308854  308854   308854        308854      308854       308854   \n",
       "unique              1       1        1             1           1            1   \n",
       "top             False   False    False         False       False        False   \n",
       "freq           308854  308854   308854        308854      308854       308854   \n",
       "\n",
       "       Depression Diabetes Arthritis     Sex Age_Category Height_(cm)  \\\n",
       "count      308854   308854    308854  308854       308854      308854   \n",
       "unique          1        1         1       1            1           1   \n",
       "top         False    False     False   False        False       False   \n",
       "freq       308854   308854    308854  308854       308854      308854   \n",
       "\n",
       "       Weight_(kg)     BMI Smoking_History Alcohol_Consumption  \\\n",
       "count       308854  308854          308854              308854   \n",
       "unique           1       1               1                   1   \n",
       "top          False   False           False               False   \n",
       "freq        308854  308854          308854              308854   \n",
       "\n",
       "       Fruit_Consumption Green_Vegetables_Consumption FriedPotato_Consumption  \n",
       "count             308854                       308854                  308854  \n",
       "unique                 1                            1                       1  \n",
       "top                False                        False                   False  \n",
       "freq              308854                       308854                  308854  "
      ]
     },
     "execution_count": 7,
     "metadata": {},
     "output_type": "execute_result"
    }
   ],
   "source": [
    "data.isnull().describe()"
   ]
  },
  {
   "cell_type": "markdown",
   "id": "b64666b7",
   "metadata": {},
   "source": [
    "## Data Cleaning Part\n",
    "#### Since BMI tells us the ratio between height and weight, we can safely remove height and weight columns and use the BMI values in advance."
   ]
  },
  {
   "cell_type": "code",
   "execution_count": 8,
   "id": "6f1b92e9",
   "metadata": {},
   "outputs": [],
   "source": [
    "data = data.drop(['Height_(cm)', 'Weight_(kg)'], axis=1)"
   ]
  },
  {
   "cell_type": "markdown",
   "id": "ff068e51",
   "metadata": {},
   "source": [
    "### Preparing the categorical data in order to encode."
   ]
  },
  {
   "cell_type": "code",
   "execution_count": 9,
   "id": "8b1a5000",
   "metadata": {},
   "outputs": [],
   "source": [
    "list_of_categories = [\"General_Health\", \"Checkup\", \"Exercise\", \"Heart_Disease\", \"Skin_Cancer\",\n",
    "\"Other_Cancer\", \"Depression\", \"Diabetes\", \"Arthritis\", \"Sex\", \"Age_Category\",\n",
    "\"Smoking_History\"]"
   ]
  },
  {
   "cell_type": "markdown",
   "id": "6a625e93",
   "metadata": {},
   "source": [
    "### Then we transform our categorical data into new encoded data."
   ]
  },
  {
   "cell_type": "code",
   "execution_count": 10,
   "id": "2a9f32cc",
   "metadata": {},
   "outputs": [],
   "source": [
    "def transform_categorical_columns(df, categorical):\n",
    "    ohe = OneHotEncoder(sparse_output=False)\n",
    "    le = LabelEncoder()\n",
    "    empty_dataframe = pd.DataFrame()\n",
    "    for i in categorical:\n",
    "        #If it just contains two variables, then it is best to use LE.\n",
    "        if df[i].nunique() == 2:\n",
    "            temporary = pd.DataFrame(le.fit_transform(np.array(df[i])), columns=[i])\n",
    "            empty_dataframe = pd.concat([empty_dataframe, temporary], axis=1)\n",
    "            df.drop([i], axis=1, inplace=True)\n",
    "        #Else, it's OHE.    \n",
    "        else:\n",
    "            temporary = pd.DataFrame(ohe.fit_transform(np.array(df[i]).reshape(-1, 1)))\n",
    "            temporary.columns = ohe.get_feature_names_out([i])\n",
    "            empty_dataframe = pd.concat([empty_dataframe, temporary], axis=1)\n",
    "            df.drop([i], axis=1, inplace=True)\n",
    "    return pd.concat([empty_dataframe, df], axis=1)"
   ]
  },
  {
   "cell_type": "code",
   "execution_count": 11,
   "id": "335a7201",
   "metadata": {},
   "outputs": [],
   "source": [
    "#This is the final form of our data.\n",
    "final_dataframe = transform_categorical_columns(data, list_of_categories)"
   ]
  },
  {
   "cell_type": "code",
   "execution_count": 12,
   "id": "6da9cf9f",
   "metadata": {},
   "outputs": [
    {
     "data": {
      "text/html": [
       "<div>\n",
       "<style scoped>\n",
       "    .dataframe tbody tr th:only-of-type {\n",
       "        vertical-align: middle;\n",
       "    }\n",
       "\n",
       "    .dataframe tbody tr th {\n",
       "        vertical-align: top;\n",
       "    }\n",
       "\n",
       "    .dataframe thead th {\n",
       "        text-align: right;\n",
       "    }\n",
       "</style>\n",
       "<table border=\"1\" class=\"dataframe\">\n",
       "  <thead>\n",
       "    <tr style=\"text-align: right;\">\n",
       "      <th></th>\n",
       "      <th>General_Health_Excellent</th>\n",
       "      <th>General_Health_Fair</th>\n",
       "      <th>General_Health_Good</th>\n",
       "      <th>General_Health_Poor</th>\n",
       "      <th>General_Health_Very Good</th>\n",
       "      <th>Checkup_5 or more years ago</th>\n",
       "      <th>Checkup_Never</th>\n",
       "      <th>Checkup_Within the past 2 years</th>\n",
       "      <th>Checkup_Within the past 5 years</th>\n",
       "      <th>Checkup_Within the past year</th>\n",
       "      <th>...</th>\n",
       "      <th>Age_Category_65-69</th>\n",
       "      <th>Age_Category_70-74</th>\n",
       "      <th>Age_Category_75-79</th>\n",
       "      <th>Age_Category_80+</th>\n",
       "      <th>Smoking_History</th>\n",
       "      <th>BMI</th>\n",
       "      <th>Alcohol_Consumption</th>\n",
       "      <th>Fruit_Consumption</th>\n",
       "      <th>Green_Vegetables_Consumption</th>\n",
       "      <th>FriedPotato_Consumption</th>\n",
       "    </tr>\n",
       "  </thead>\n",
       "  <tbody>\n",
       "    <tr>\n",
       "      <th>0</th>\n",
       "      <td>0.0</td>\n",
       "      <td>0.0</td>\n",
       "      <td>0.0</td>\n",
       "      <td>1.0</td>\n",
       "      <td>0.0</td>\n",
       "      <td>0.0</td>\n",
       "      <td>0.0</td>\n",
       "      <td>1.0</td>\n",
       "      <td>0.0</td>\n",
       "      <td>0.0</td>\n",
       "      <td>...</td>\n",
       "      <td>0.0</td>\n",
       "      <td>1.0</td>\n",
       "      <td>0.0</td>\n",
       "      <td>0.0</td>\n",
       "      <td>1</td>\n",
       "      <td>14.54</td>\n",
       "      <td>0.0</td>\n",
       "      <td>30.0</td>\n",
       "      <td>16.0</td>\n",
       "      <td>12.0</td>\n",
       "    </tr>\n",
       "    <tr>\n",
       "      <th>1</th>\n",
       "      <td>0.0</td>\n",
       "      <td>0.0</td>\n",
       "      <td>0.0</td>\n",
       "      <td>0.0</td>\n",
       "      <td>1.0</td>\n",
       "      <td>0.0</td>\n",
       "      <td>0.0</td>\n",
       "      <td>0.0</td>\n",
       "      <td>0.0</td>\n",
       "      <td>1.0</td>\n",
       "      <td>...</td>\n",
       "      <td>0.0</td>\n",
       "      <td>1.0</td>\n",
       "      <td>0.0</td>\n",
       "      <td>0.0</td>\n",
       "      <td>0</td>\n",
       "      <td>28.29</td>\n",
       "      <td>0.0</td>\n",
       "      <td>30.0</td>\n",
       "      <td>0.0</td>\n",
       "      <td>4.0</td>\n",
       "    </tr>\n",
       "    <tr>\n",
       "      <th>2</th>\n",
       "      <td>0.0</td>\n",
       "      <td>0.0</td>\n",
       "      <td>0.0</td>\n",
       "      <td>0.0</td>\n",
       "      <td>1.0</td>\n",
       "      <td>0.0</td>\n",
       "      <td>0.0</td>\n",
       "      <td>0.0</td>\n",
       "      <td>0.0</td>\n",
       "      <td>1.0</td>\n",
       "      <td>...</td>\n",
       "      <td>0.0</td>\n",
       "      <td>0.0</td>\n",
       "      <td>0.0</td>\n",
       "      <td>0.0</td>\n",
       "      <td>0</td>\n",
       "      <td>33.47</td>\n",
       "      <td>4.0</td>\n",
       "      <td>12.0</td>\n",
       "      <td>3.0</td>\n",
       "      <td>16.0</td>\n",
       "    </tr>\n",
       "    <tr>\n",
       "      <th>3</th>\n",
       "      <td>0.0</td>\n",
       "      <td>0.0</td>\n",
       "      <td>0.0</td>\n",
       "      <td>1.0</td>\n",
       "      <td>0.0</td>\n",
       "      <td>0.0</td>\n",
       "      <td>0.0</td>\n",
       "      <td>0.0</td>\n",
       "      <td>0.0</td>\n",
       "      <td>1.0</td>\n",
       "      <td>...</td>\n",
       "      <td>0.0</td>\n",
       "      <td>0.0</td>\n",
       "      <td>1.0</td>\n",
       "      <td>0.0</td>\n",
       "      <td>0</td>\n",
       "      <td>28.73</td>\n",
       "      <td>0.0</td>\n",
       "      <td>30.0</td>\n",
       "      <td>30.0</td>\n",
       "      <td>8.0</td>\n",
       "    </tr>\n",
       "    <tr>\n",
       "      <th>4</th>\n",
       "      <td>0.0</td>\n",
       "      <td>0.0</td>\n",
       "      <td>1.0</td>\n",
       "      <td>0.0</td>\n",
       "      <td>0.0</td>\n",
       "      <td>0.0</td>\n",
       "      <td>0.0</td>\n",
       "      <td>0.0</td>\n",
       "      <td>0.0</td>\n",
       "      <td>1.0</td>\n",
       "      <td>...</td>\n",
       "      <td>0.0</td>\n",
       "      <td>0.0</td>\n",
       "      <td>0.0</td>\n",
       "      <td>1.0</td>\n",
       "      <td>1</td>\n",
       "      <td>24.37</td>\n",
       "      <td>0.0</td>\n",
       "      <td>8.0</td>\n",
       "      <td>4.0</td>\n",
       "      <td>0.0</td>\n",
       "    </tr>\n",
       "  </tbody>\n",
       "</table>\n",
       "<p>5 rows × 40 columns</p>\n",
       "</div>"
      ],
      "text/plain": [
       "   General_Health_Excellent  General_Health_Fair  General_Health_Good  \\\n",
       "0                       0.0                  0.0                  0.0   \n",
       "1                       0.0                  0.0                  0.0   \n",
       "2                       0.0                  0.0                  0.0   \n",
       "3                       0.0                  0.0                  0.0   \n",
       "4                       0.0                  0.0                  1.0   \n",
       "\n",
       "   General_Health_Poor  General_Health_Very Good  Checkup_5 or more years ago  \\\n",
       "0                  1.0                       0.0                          0.0   \n",
       "1                  0.0                       1.0                          0.0   \n",
       "2                  0.0                       1.0                          0.0   \n",
       "3                  1.0                       0.0                          0.0   \n",
       "4                  0.0                       0.0                          0.0   \n",
       "\n",
       "   Checkup_Never  Checkup_Within the past 2 years  \\\n",
       "0            0.0                              1.0   \n",
       "1            0.0                              0.0   \n",
       "2            0.0                              0.0   \n",
       "3            0.0                              0.0   \n",
       "4            0.0                              0.0   \n",
       "\n",
       "   Checkup_Within the past 5 years  Checkup_Within the past year  ...  \\\n",
       "0                              0.0                           0.0  ...   \n",
       "1                              0.0                           1.0  ...   \n",
       "2                              0.0                           1.0  ...   \n",
       "3                              0.0                           1.0  ...   \n",
       "4                              0.0                           1.0  ...   \n",
       "\n",
       "   Age_Category_65-69  Age_Category_70-74  Age_Category_75-79  \\\n",
       "0                 0.0                 1.0                 0.0   \n",
       "1                 0.0                 1.0                 0.0   \n",
       "2                 0.0                 0.0                 0.0   \n",
       "3                 0.0                 0.0                 1.0   \n",
       "4                 0.0                 0.0                 0.0   \n",
       "\n",
       "   Age_Category_80+  Smoking_History    BMI  Alcohol_Consumption  \\\n",
       "0               0.0                1  14.54                  0.0   \n",
       "1               0.0                0  28.29                  0.0   \n",
       "2               0.0                0  33.47                  4.0   \n",
       "3               0.0                0  28.73                  0.0   \n",
       "4               1.0                1  24.37                  0.0   \n",
       "\n",
       "   Fruit_Consumption  Green_Vegetables_Consumption  FriedPotato_Consumption  \n",
       "0               30.0                          16.0                     12.0  \n",
       "1               30.0                           0.0                      4.0  \n",
       "2               12.0                           3.0                     16.0  \n",
       "3               30.0                          30.0                      8.0  \n",
       "4                8.0                           4.0                      0.0  \n",
       "\n",
       "[5 rows x 40 columns]"
      ]
     },
     "execution_count": 12,
     "metadata": {},
     "output_type": "execute_result"
    }
   ],
   "source": [
    "final_dataframe.head()"
   ]
  },
  {
   "cell_type": "markdown",
   "id": "c2e57658",
   "metadata": {},
   "source": [
    "### Getting prepared for the training."
   ]
  },
  {
   "cell_type": "code",
   "execution_count": 13,
   "id": "03bd6e8f",
   "metadata": {},
   "outputs": [],
   "source": [
    "#We seperate our x and y.\n",
    "y = final_dataframe['Heart_Disease']\n",
    "x = final_dataframe.drop(['Heart_Disease'], axis=1)"
   ]
  },
  {
   "cell_type": "code",
   "execution_count": 14,
   "id": "3b301513",
   "metadata": {},
   "outputs": [
    {
     "data": {
      "text/plain": [
       "((308854, 39), (308854,))"
      ]
     },
     "execution_count": 14,
     "metadata": {},
     "output_type": "execute_result"
    }
   ],
   "source": [
    "x.shape, y.shape"
   ]
  },
  {
   "cell_type": "markdown",
   "id": "165108f7",
   "metadata": {},
   "source": [
    "### Now, we're gonna check the balance between two categorical values. If there is no balance, we have to adjust them."
   ]
  },
  {
   "cell_type": "code",
   "execution_count": 15,
   "id": "5e361b3d",
   "metadata": {},
   "outputs": [],
   "source": [
    "value_zero = final_dataframe[final_dataframe['Heart_Disease'] == 0]\n",
    "value_one = final_dataframe[final_dataframe['Heart_Disease'] == 1]"
   ]
  },
  {
   "cell_type": "code",
   "execution_count": 16,
   "id": "35430981",
   "metadata": {},
   "outputs": [
    {
     "data": {
      "text/plain": [
       "((283883, 40), (24971, 40))"
      ]
     },
     "execution_count": 16,
     "metadata": {},
     "output_type": "execute_result"
    }
   ],
   "source": [
    "value_zero.shape, value_one.shape"
   ]
  },
  {
   "cell_type": "markdown",
   "id": "f68f2a46",
   "metadata": {},
   "source": [
    "### It's clearly imbalanced, I'm gonna use two different techniques:\n",
    "1. Populate the imbalanced data using SMOTE and use K-Fold on the KNN balanced data.\n",
    "2. Use Stratified K-Fold on the imbalanced data."
   ]
  },
  {
   "cell_type": "code",
   "execution_count": 25,
   "id": "8f493cf0",
   "metadata": {},
   "outputs": [],
   "source": [
    "xgb = XGBClassifier()"
   ]
  },
  {
   "cell_type": "markdown",
   "id": "10456f6c",
   "metadata": {},
   "source": [
    "### 1. Populating the data by SMOTE and using K-Fold."
   ]
  },
  {
   "cell_type": "code",
   "execution_count": 22,
   "id": "3220eef8",
   "metadata": {},
   "outputs": [],
   "source": [
    "smote = SMOTE(sampling_strategy='minority')\n",
    "X_sy, y_sy = smote.fit_resample(x, y)"
   ]
  },
  {
   "cell_type": "code",
   "execution_count": 23,
   "id": "9df7d38e",
   "metadata": {},
   "outputs": [
    {
     "data": {
      "text/plain": [
       "((567766, 39), (567766,))"
      ]
     },
     "execution_count": 23,
     "metadata": {},
     "output_type": "execute_result"
    }
   ],
   "source": [
    "X_sy.shape, y_sy.shape"
   ]
  },
  {
   "cell_type": "code",
   "execution_count": 24,
   "id": "038797b3",
   "metadata": {},
   "outputs": [
    {
     "data": {
      "text/plain": [
       "((283883,), (283883,))"
      ]
     },
     "execution_count": 24,
     "metadata": {},
     "output_type": "execute_result"
    }
   ],
   "source": [
    "value_zero_sm = y_sy[y_sy.iloc[:] == 0]\n",
    "value_one_sm = y_sy[y_sy.iloc[:] == 1]\n",
    "\n",
    "value_zero_sm.shape, value_one_sm.shape"
   ]
  },
  {
   "cell_type": "code",
   "execution_count": 28,
   "id": "dc66ba67",
   "metadata": {},
   "outputs": [],
   "source": [
    "kfold = KFold(n_splits=10)\n",
    "results = cross_val_score(xgb, X_sy, y_sy, cv=kfold)"
   ]
  },
  {
   "cell_type": "markdown",
   "id": "3f131f79",
   "metadata": {},
   "source": [
    "### Then we get our first result."
   ]
  },
  {
   "cell_type": "code",
   "execution_count": 29,
   "id": "14f0584b",
   "metadata": {},
   "outputs": [
    {
     "name": "stdout",
     "output_type": "stream",
     "text": [
      "Accuracy(with SMOTE and 10K-Fold):  0.9457913016955366\n"
     ]
    }
   ],
   "source": [
    "print(\"Accuracy (with SMOTE and 10K-Fold): \", results.mean())"
   ]
  },
  {
   "cell_type": "markdown",
   "id": "6bd8767f",
   "metadata": {},
   "source": [
    "### 2. Using Stratified K-Fold on our imbalanced data."
   ]
  },
  {
   "cell_type": "code",
   "execution_count": 30,
   "id": "deeff38f",
   "metadata": {},
   "outputs": [
    {
     "data": {
      "text/plain": [
       "((283883, 40), (24971, 40))"
      ]
     },
     "execution_count": 30,
     "metadata": {},
     "output_type": "execute_result"
    }
   ],
   "source": [
    "value_zero.shape, value_one.shape"
   ]
  },
  {
   "cell_type": "code",
   "execution_count": 31,
   "id": "062c34bc",
   "metadata": {},
   "outputs": [
    {
     "data": {
      "text/plain": [
       "((308854, 39), (308854,))"
      ]
     },
     "execution_count": 31,
     "metadata": {},
     "output_type": "execute_result"
    }
   ],
   "source": [
    "x.shape, y.shape"
   ]
  },
  {
   "cell_type": "code",
   "execution_count": 32,
   "id": "0f0a8777",
   "metadata": {},
   "outputs": [],
   "source": [
    "skfold = StratifiedKFold(n_splits=10)\n",
    "results_skfold = cross_val_score(xgb, x, y, cv=skfold)"
   ]
  },
  {
   "cell_type": "markdown",
   "id": "f58122cd",
   "metadata": {},
   "source": [
    "### We get our last result."
   ]
  },
  {
   "cell_type": "code",
   "execution_count": null,
   "id": "0334c549",
   "metadata": {},
   "outputs": [],
   "source": [
    "print(\"Accuracy (with Stratified 10K-Fold): \", results_skfold.mean())"
   ]
  }
 ],
 "metadata": {
  "kernelspec": {
   "display_name": "Python 3 (ipykernel)",
   "language": "python",
   "name": "python3"
  },
  "language_info": {
   "codemirror_mode": {
    "name": "ipython",
    "version": 3
   },
   "file_extension": ".py",
   "mimetype": "text/x-python",
   "name": "python",
   "nbconvert_exporter": "python",
   "pygments_lexer": "ipython3",
   "version": "3.11.3"
  }
 },
 "nbformat": 4,
 "nbformat_minor": 5
}
